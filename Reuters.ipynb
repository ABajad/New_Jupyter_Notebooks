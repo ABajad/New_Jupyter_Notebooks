{
  "nbformat": 4,
  "nbformat_minor": 0,
  "metadata": {
    "colab": {
      "name": "Reuters",
      "provenance": [],
      "collapsed_sections": [],
      "authorship_tag": "ABX9TyO9NHgtMUkly+jnw7zEoHum",
      "include_colab_link": true
    },
    "kernelspec": {
      "name": "python3",
      "display_name": "Python 3"
    }
  },
  "cells": [
    {
      "cell_type": "markdown",
      "metadata": {
        "id": "view-in-github",
        "colab_type": "text"
      },
      "source": [
        "<a href=\"https://colab.research.google.com/github/ABajad/New_Jupyter_Notebooks/blob/master/Reuters.ipynb\" target=\"_parent\"><img src=\"https://colab.research.google.com/assets/colab-badge.svg\" alt=\"Open In Colab\"/></a>"
      ]
    },
    {
      "cell_type": "code",
      "metadata": {
        "id": "CtHyeKvFW2ue",
        "colab_type": "code",
        "colab": {}
      },
      "source": [
        "from keras.datasets import reuters\n",
        "\n",
        "(train_data, train_labels), (test_data, test_labels) = reuters.load_data(num_words=10000)"
      ],
      "execution_count": 17,
      "outputs": []
    },
    {
      "cell_type": "code",
      "metadata": {
        "id": "wZRLius6GmGB",
        "colab_type": "code",
        "colab": {
          "base_uri": "https://localhost:8080/",
          "height": 34
        },
        "outputId": "bddeca10-859e-4b81-9032-bfb2c5c25bf2"
      },
      "source": [
        "len(train_data)"
      ],
      "execution_count": 18,
      "outputs": [
        {
          "output_type": "execute_result",
          "data": {
            "text/plain": [
              "8982"
            ]
          },
          "metadata": {
            "tags": []
          },
          "execution_count": 18
        }
      ]
    },
    {
      "cell_type": "code",
      "metadata": {
        "id": "_1rVhpo4Grs3",
        "colab_type": "code",
        "colab": {
          "base_uri": "https://localhost:8080/",
          "height": 34
        },
        "outputId": "086be1fe-af84-4370-fa19-d7da363b0013"
      },
      "source": [
        "len(test_data)"
      ],
      "execution_count": 19,
      "outputs": [
        {
          "output_type": "execute_result",
          "data": {
            "text/plain": [
              "2246"
            ]
          },
          "metadata": {
            "tags": []
          },
          "execution_count": 19
        }
      ]
    },
    {
      "cell_type": "code",
      "metadata": {
        "id": "35g8BQUDGtkm",
        "colab_type": "code",
        "colab": {}
      },
      "source": [
        "word_index = reuters.get_word_index()\n",
        "reverse_word_index = dict([(value, key) for (key, value) in word_index.items()])\n",
        "decoded_newswire = ' '.join([reverse_word_index.get(i - 3, '?') for i in\n",
        "train_data[0]])"
      ],
      "execution_count": 20,
      "outputs": []
    },
    {
      "cell_type": "code",
      "metadata": {
        "id": "KjD_7GQ0G7kn",
        "colab_type": "code",
        "colab": {
          "base_uri": "https://localhost:8080/",
          "height": 69
        },
        "outputId": "85c1d0e2-8054-4cef-fc5a-23d599caa5a4"
      },
      "source": [
        "decoded_newswire"
      ],
      "execution_count": 21,
      "outputs": [
        {
          "output_type": "execute_result",
          "data": {
            "application/vnd.google.colaboratory.intrinsic+json": {
              "type": "string"
            },
            "text/plain": [
              "'? ? ? said as a result of its december acquisition of space co it expects earnings per share in 1987 of 1 15 to 1 30 dlrs per share up from 70 cts in 1986 the company said pretax net should rise to nine to 10 mln dlrs from six mln dlrs in 1986 and rental operation revenues to 19 to 22 mln dlrs from 12 5 mln dlrs it said cash flow per share this year should be 2 50 to three dlrs reuter 3'"
            ]
          },
          "metadata": {
            "tags": []
          },
          "execution_count": 21
        }
      ]
    },
    {
      "cell_type": "code",
      "metadata": {
        "id": "yctD_k2_G_jW",
        "colab_type": "code",
        "colab": {}
      },
      "source": [
        "import numpy as np\n",
        "\n",
        "def vectorize_sequences(sequences, dimension = 10000):\n",
        "  results = np.zeros((len(sequences), dimension))\n",
        "  for i, sequence in enumerate(sequences):\n",
        "    results[i, sequence] = 1\n",
        "  return results\n"
      ],
      "execution_count": 22,
      "outputs": []
    },
    {
      "cell_type": "code",
      "metadata": {
        "id": "zEti0yZaHyg-",
        "colab_type": "code",
        "colab": {}
      },
      "source": [
        "x_train = vectorize_sequences(train_data)\n",
        "x_test = vectorize_sequences(test_data)"
      ],
      "execution_count": 23,
      "outputs": []
    },
    {
      "cell_type": "code",
      "metadata": {
        "id": "HtuMV2GvIE1W",
        "colab_type": "code",
        "colab": {}
      },
      "source": [
        "def to_one_hot(labels, dimensions=46):\n",
        "  results = np.zeros((len(labels), dimensions))\n",
        "  for i , label in enumerate(labels):\n",
        "    results[i, label] = 1\n",
        "  return results\n"
      ],
      "execution_count": 24,
      "outputs": []
    },
    {
      "cell_type": "code",
      "metadata": {
        "id": "qevcQVD8Iecm",
        "colab_type": "code",
        "colab": {}
      },
      "source": [
        "one_hot_train_labels = to_one_hot(train_labels)\n",
        "one_hot_test_labels = to_one_hot(test_labels)"
      ],
      "execution_count": 25,
      "outputs": []
    },
    {
      "cell_type": "code",
      "metadata": {
        "id": "OwyGuZ-aIrtJ",
        "colab_type": "code",
        "colab": {}
      },
      "source": [
        "from keras import models\n",
        "from keras import layers\n",
        "\n",
        "model = models.Sequential()\n",
        "model.add(layers.Dense(64, activation='relu', input_shape=(10000,)))\n",
        "model.add(layers.Dense(64, activation='relu'))\n",
        "model.add(layers.Dense(46, activation='softmax'))"
      ],
      "execution_count": 31,
      "outputs": []
    },
    {
      "cell_type": "code",
      "metadata": {
        "id": "i8yBFGaAX92n",
        "colab_type": "code",
        "colab": {}
      },
      "source": [
        "model.compile(optimizer='rmsprop',\n",
        "loss='categorical_crossentropy',\n",
        "metrics=['accuracy'])"
      ],
      "execution_count": 32,
      "outputs": []
    },
    {
      "cell_type": "code",
      "metadata": {
        "id": "jylOQnUpZDTW",
        "colab_type": "code",
        "colab": {}
      },
      "source": [
        "x_val = x_train[:1000]\n",
        "partial_x_train = x_train[1000:]\n",
        "y_val = one_hot_train_labels[:1000]\n",
        "partial_y_train = one_hot_train_labels[1000:]"
      ],
      "execution_count": 33,
      "outputs": []
    },
    {
      "cell_type": "code",
      "metadata": {
        "id": "KeoWLPQ7ZWc1",
        "colab_type": "code",
        "colab": {
          "base_uri": "https://localhost:8080/",
          "height": 689
        },
        "outputId": "1694a5b6-d2d8-4761-ea28-6ee9f4844619"
      },
      "source": [
        "history = model.fit(partial_x_train,\n",
        "partial_y_train,\n",
        "epochs=20,\n",
        "batch_size=512,\n",
        "validation_data=(x_val, y_val))"
      ],
      "execution_count": 34,
      "outputs": [
        {
          "output_type": "stream",
          "text": [
            "Epoch 1/20\n",
            "16/16 [==============================] - 1s 51ms/step - loss: 2.5906 - accuracy: 0.5341 - val_loss: 1.7034 - val_accuracy: 0.6460\n",
            "Epoch 2/20\n",
            "16/16 [==============================] - 1s 38ms/step - loss: 1.4009 - accuracy: 0.7108 - val_loss: 1.2865 - val_accuracy: 0.7240\n",
            "Epoch 3/20\n",
            "16/16 [==============================] - 1s 38ms/step - loss: 1.0551 - accuracy: 0.7740 - val_loss: 1.1359 - val_accuracy: 0.7530\n",
            "Epoch 4/20\n",
            "16/16 [==============================] - 1s 38ms/step - loss: 0.8547 - accuracy: 0.8145 - val_loss: 1.0471 - val_accuracy: 0.7660\n",
            "Epoch 5/20\n",
            "16/16 [==============================] - 1s 37ms/step - loss: 0.6882 - accuracy: 0.8509 - val_loss: 0.9761 - val_accuracy: 0.7950\n",
            "Epoch 6/20\n",
            "16/16 [==============================] - 1s 39ms/step - loss: 0.5578 - accuracy: 0.8824 - val_loss: 0.9502 - val_accuracy: 0.7980\n",
            "Epoch 7/20\n",
            "16/16 [==============================] - 1s 37ms/step - loss: 0.4540 - accuracy: 0.9057 - val_loss: 0.9319 - val_accuracy: 0.8010\n",
            "Epoch 8/20\n",
            "16/16 [==============================] - 1s 37ms/step - loss: 0.3728 - accuracy: 0.9191 - val_loss: 0.8847 - val_accuracy: 0.8170\n",
            "Epoch 9/20\n",
            "16/16 [==============================] - 1s 38ms/step - loss: 0.3064 - accuracy: 0.9326 - val_loss: 0.9097 - val_accuracy: 0.8150\n",
            "Epoch 10/20\n",
            "16/16 [==============================] - 1s 37ms/step - loss: 0.2536 - accuracy: 0.9414 - val_loss: 0.9055 - val_accuracy: 0.8170\n",
            "Epoch 11/20\n",
            "16/16 [==============================] - 1s 39ms/step - loss: 0.2174 - accuracy: 0.9479 - val_loss: 0.9547 - val_accuracy: 0.8050\n",
            "Epoch 12/20\n",
            "16/16 [==============================] - 1s 38ms/step - loss: 0.1947 - accuracy: 0.9500 - val_loss: 0.9096 - val_accuracy: 0.8260\n",
            "Epoch 13/20\n",
            "16/16 [==============================] - 1s 37ms/step - loss: 0.1715 - accuracy: 0.9520 - val_loss: 0.9429 - val_accuracy: 0.8210\n",
            "Epoch 14/20\n",
            "16/16 [==============================] - 1s 39ms/step - loss: 0.1531 - accuracy: 0.9549 - val_loss: 0.9796 - val_accuracy: 0.8160\n",
            "Epoch 15/20\n",
            "16/16 [==============================] - 1s 41ms/step - loss: 0.1436 - accuracy: 0.9565 - val_loss: 0.9865 - val_accuracy: 0.8240\n",
            "Epoch 16/20\n",
            "16/16 [==============================] - 1s 40ms/step - loss: 0.1323 - accuracy: 0.9555 - val_loss: 1.0201 - val_accuracy: 0.8010\n",
            "Epoch 17/20\n",
            "16/16 [==============================] - 1s 40ms/step - loss: 0.1292 - accuracy: 0.9565 - val_loss: 0.9794 - val_accuracy: 0.8180\n",
            "Epoch 18/20\n",
            "16/16 [==============================] - 1s 41ms/step - loss: 0.1218 - accuracy: 0.9593 - val_loss: 1.0449 - val_accuracy: 0.8070\n",
            "Epoch 19/20\n",
            "16/16 [==============================] - 1s 38ms/step - loss: 0.1150 - accuracy: 0.9570 - val_loss: 1.0605 - val_accuracy: 0.8150\n",
            "Epoch 20/20\n",
            "16/16 [==============================] - 1s 38ms/step - loss: 0.1137 - accuracy: 0.9567 - val_loss: 1.0428 - val_accuracy: 0.8180\n"
          ],
          "name": "stdout"
        }
      ]
    },
    {
      "cell_type": "code",
      "metadata": {
        "id": "N-USdCA0ZYtm",
        "colab_type": "code",
        "colab": {
          "base_uri": "https://localhost:8080/",
          "height": 295
        },
        "outputId": "c07e2073-281c-43bd-8804-e72e6cd1a8f0"
      },
      "source": [
        "import matplotlib.pyplot as plt\n",
        "loss = history.history['loss']\n",
        "val_loss = history.history['val_loss']\n",
        "epochs = range(1, len(loss) + 1)\n",
        "plt.plot(epochs, loss, 'bo', label='Training loss')\n",
        "plt.plot(epochs, val_loss, 'b', label='Validation loss')\n",
        "plt.title('Training and validation loss')\n",
        "plt.xlabel('Epochs')\n",
        "plt.ylabel('Loss')\n",
        "plt.legend()\n",
        "plt.show()"
      ],
      "execution_count": 36,
      "outputs": [
        {
          "output_type": "display_data",
          "data": {
            "image/png": "[encoded data removed]",
            "text/plain": [
              "<Figure size 432x288 with 1 Axes>"
            ]
          },
          "metadata": {
            "tags": [],
            "needs_background": "light"
          }
        }
      ]
    },
    {
      "cell_type": "code",
      "metadata": {
        "id": "pFPisx0LZy6C",
        "colab_type": "code",
        "colab": {
          "base_uri": "https://localhost:8080/",
          "height": 34
        },
        "outputId": "3fcef31d-07aa-49ef-8a36-6b3dbd093ff7"
      },
      "source": [
        "history_dict = history.history\n",
        "history_dict.keys()"
      ],
      "execution_count": 39,
      "outputs": [
        {
          "output_type": "execute_result",
          "data": {
            "text/plain": [
              "dict_keys(['loss', 'accuracy', 'val_loss', 'val_accuracy'])"
            ]
          },
          "metadata": {
            "tags": []
          },
          "execution_count": 39
        }
      ]
    },
    {
      "cell_type": "code",
      "metadata": {
        "id": "ST0c4umdZmIO",
        "colab_type": "code",
        "colab": {
          "base_uri": "https://localhost:8080/",
          "height": 295
        },
        "outputId": "3301cfcb-9747-4416-e1a1-5a5a2938772c"
      },
      "source": [
        "plt.clf()\n",
        "acc = history.history['accuracy']\n",
        "val_acc = history.history['val_accuracy']\n",
        "plt.plot(epochs, acc, 'bo', label='Training acc')\n",
        "plt.plot(epochs, val_acc, 'b', label='Validation acc')\n",
        "plt.title('Training and validation accuracy')\n",
        "plt.xlabel('Epochs')\n",
        "plt.ylabel('Loss')\n",
        "plt.legend()\n",
        "plt.show()"
      ],
      "execution_count": 41,
      "outputs": [
        {
          "output_type": "display_data",
          "data": {
            "image/png": "[encoded data removed]",
            "text/plain": [
              "<Figure size 432x288 with 1 Axes>"
            ]
          },
          "metadata": {
            "tags": [],
            "needs_background": "light"
          }
        }
      ]
    },
    {
      "cell_type": "code",
      "metadata": {
        "id": "NiRFV2bcZoQV",
        "colab_type": "code",
        "colab": {
          "base_uri": "https://localhost:8080/",
          "height": 336
        },
        "outputId": "2ee54f95-6fac-4d06-c827-52bcf2b2f217"
      },
      "source": [
        "model = models.Sequential()\n",
        "model.add(layers.Dense(64, activation='relu', input_shape=(10000,)))\n",
        "model.add(layers.Dense(64, activation='relu'))\n",
        "model.add(layers.Dense(46, activation='softmax'))\n",
        "model.compile(optimizer='rmsprop',\n",
        "loss='categorical_crossentropy',\n",
        "metrics=['accuracy'])\n",
        "model.fit(partial_x_train,\n",
        "partial_y_train,\n",
        "epochs=9,\n",
        "batch_size=512,\n",
        "validation_data=(x_val, y_val))\n",
        "results = model.evaluate(x_test, one_hot_test_labels)"
      ],
      "execution_count": 43,
      "outputs": [
        {
          "output_type": "stream",
          "text": [
            "Epoch 1/9\n",
            "16/16 [==============================] - 1s 49ms/step - loss: 2.6486 - accuracy: 0.5262 - val_loss: 1.7297 - val_accuracy: 0.6630\n",
            "Epoch 2/9\n",
            "16/16 [==============================] - 1s 39ms/step - loss: 1.4082 - accuracy: 0.7126 - val_loss: 1.2946 - val_accuracy: 0.7180\n",
            "Epoch 3/9\n",
            "16/16 [==============================] - 1s 38ms/step - loss: 1.0434 - accuracy: 0.7779 - val_loss: 1.1195 - val_accuracy: 0.7520\n",
            "Epoch 4/9\n",
            "16/16 [==============================] - 1s 38ms/step - loss: 0.8242 - accuracy: 0.8250 - val_loss: 1.0247 - val_accuracy: 0.7730\n",
            "Epoch 5/9\n",
            "16/16 [==============================] - 1s 37ms/step - loss: 0.6538 - accuracy: 0.8631 - val_loss: 0.9688 - val_accuracy: 0.7960\n",
            "Epoch 6/9\n",
            "16/16 [==============================] - 1s 38ms/step - loss: 0.5256 - accuracy: 0.8885 - val_loss: 0.9030 - val_accuracy: 0.8150\n",
            "Epoch 7/9\n",
            "16/16 [==============================] - 1s 38ms/step - loss: 0.4259 - accuracy: 0.9094 - val_loss: 0.9019 - val_accuracy: 0.8100\n",
            "Epoch 8/9\n",
            "16/16 [==============================] - 1s 38ms/step - loss: 0.3510 - accuracy: 0.9255 - val_loss: 0.9383 - val_accuracy: 0.7950\n",
            "Epoch 9/9\n",
            "16/16 [==============================] - 1s 38ms/step - loss: 0.2876 - accuracy: 0.9382 - val_loss: 0.8816 - val_accuracy: 0.8210\n",
            "71/71 [==============================] - 0s 2ms/step - loss: 0.9932 - accuracy: 0.7818\n"
          ],
          "name": "stdout"
        }
      ]
    },
    {
      "cell_type": "code",
      "metadata": {
        "id": "AsQCG_DFaKuW",
        "colab_type": "code",
        "colab": {
          "base_uri": "https://localhost:8080/",
          "height": 34
        },
        "outputId": "9f38b2cf-66c5-4bf5-8a4e-b0a2bf5e84d8"
      },
      "source": [
        "results\n"
      ],
      "execution_count": 44,
      "outputs": [
        {
          "output_type": "execute_result",
          "data": {
            "text/plain": [
              "[0.993196427822113, 0.7818343639373779]"
            ]
          },
          "metadata": {
            "tags": []
          },
          "execution_count": 44
        }
      ]
    },
    {
      "cell_type": "code",
      "metadata": {
        "id": "6p9uat7ObCbh",
        "colab_type": "code",
        "colab": {},
        "cellView": "form"
      },
      "source": [
        "#@title random approach\n"
      ],
      "execution_count": 45,
      "outputs": []
    },
    {
      "cell_type": "code",
      "metadata": {
        "id": "IEk52Y9YbUBl",
        "colab_type": "code",
        "colab": {
          "base_uri": "https://localhost:8080/",
          "height": 34
        },
        "outputId": "eed19e40-5e6a-4752-e773-75fdce686633"
      },
      "source": [
        "import copy\n",
        "test_labels_copy = copy.copy(test_labels)\n",
        "np.random.shuffle(test_labels_copy)\n",
        "hits_array = np.array(test_labels) == np.array(test_labels_copy)\n",
        "float(np.sum(hits_array)) / len(test_labels)"
      ],
      "execution_count": 56,
      "outputs": [
        {
          "output_type": "execute_result",
          "data": {
            "text/plain": [
              "0.18788958147818344"
            ]
          },
          "metadata": {
            "tags": []
          },
          "execution_count": 56
        }
      ]
    },
    {
      "cell_type": "code",
      "metadata": {
        "id": "1tQK53XHbhJW",
        "colab_type": "code",
        "colab": {}
      },
      "source": [
        "predictions = model.predict(x_test)"
      ],
      "execution_count": 57,
      "outputs": []
    },
    {
      "cell_type": "code",
      "metadata": {
        "id": "OFLpdBm8btA_",
        "colab_type": "code",
        "colab": {
          "base_uri": "https://localhost:8080/",
          "height": 34
        },
        "outputId": "956a5745-3960-4e23-e377-61a44da1788c"
      },
      "source": [
        "predictions[0].shape"
      ],
      "execution_count": 58,
      "outputs": [
        {
          "output_type": "execute_result",
          "data": {
            "text/plain": [
              "(46,)"
            ]
          },
          "metadata": {
            "tags": []
          },
          "execution_count": 58
        }
      ]
    },
    {
      "cell_type": "code",
      "metadata": {
        "id": "ZOx47bsFb0q1",
        "colab_type": "code",
        "colab": {
          "base_uri": "https://localhost:8080/",
          "height": 34
        },
        "outputId": "afca14a5-43f3-48b5-dff3-edb1423edcde"
      },
      "source": [
        "np.sum(predictions[0])"
      ],
      "execution_count": 60,
      "outputs": [
        {
          "output_type": "execute_result",
          "data": {
            "text/plain": [
              "1.0000001"
            ]
          },
          "metadata": {
            "tags": []
          },
          "execution_count": 60
        }
      ]
    },
    {
      "cell_type": "code",
      "metadata": {
        "id": "Zdfw6SnZbwK1",
        "colab_type": "code",
        "colab": {
          "base_uri": "https://localhost:8080/",
          "height": 34
        },
        "outputId": "9a1285f7-960f-4cc9-fa31-4f32240ca680"
      },
      "source": [
        "np.argmax(predictions[0])"
      ],
      "execution_count": 61,
      "outputs": [
        {
          "output_type": "execute_result",
          "data": {
            "text/plain": [
              "3"
            ]
          },
          "metadata": {
            "tags": []
          },
          "execution_count": 61
        }
      ]
    }
  ]
}